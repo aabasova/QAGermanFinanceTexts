{
 "cells": [
  {
   "cell_type": "markdown",
   "metadata": {},
   "source": [
    "This notebook processes the \"finance_news_de_2018-2022.csv\" file. The \"finance_news_de_2018-2022.csv\" file was given as input by Prof. Gertz and contains german economic and financial articles from various sources. The csv file contains the articles as well as some metadata of the articles such as the website they were obtained from and the date. In this notebook the csv file is loaded as a DataFrame and each article is written into a separate txt file in order to efficiently load them into a Dokument store (elastic search). Additionally, a random sample of the txt files is upload into the annotation tool for manual annotation. The most important metadata are captured in the title of the txt file."
   ]
  },
  {
   "cell_type": "code",
   "execution_count": 1,
   "metadata": {},
   "outputs": [],
   "source": [
    "import pandas as pd\n",
    "import numpy as np\n",
    "from tqdm.notebook import tqdm\n",
    "import os"
   ]
  },
  {
   "cell_type": "code",
   "execution_count": 6,
   "metadata": {},
   "outputs": [],
   "source": [
    "#path of csv directory\n",
    "directory_path = \"data/\"\n",
    "\n",
    "#path to the file containing the german economic and financial articles\n",
    "df_path = directory_path + \"finance_news_de_2018-2022.csv\"\n",
    "\n",
    "#path to save the individual txt files \n",
    "split_files_path = directory_path + 'split_files/'"
   ]
  },
  {
   "cell_type": "code",
   "execution_count": 13,
   "metadata": {},
   "outputs": [
    {
     "name": "stdout",
     "output_type": "stream",
     "text": [
      "Dataframe contains 287527 articles and 8 attributes\n"
     ]
    }
   ],
   "source": [
    "#load german economic and financial articles as a DataFrame\n",
    "df = pd.read_csv(df_path)\n",
    "print(\n",
    "    f\"Dataframe contains {df.shape[0]} articles and {df.shape[1]} attributes\")"
   ]
  },
  {
   "cell_type": "code",
   "execution_count": 14,
   "metadata": {},
   "outputs": [
    {
     "data": {
      "text/html": [
       "<div>\n",
       "<style scoped>\n",
       "    .dataframe tbody tr th:only-of-type {\n",
       "        vertical-align: middle;\n",
       "    }\n",
       "\n",
       "    .dataframe tbody tr th {\n",
       "        vertical-align: top;\n",
       "    }\n",
       "\n",
       "    .dataframe thead th {\n",
       "        text-align: right;\n",
       "    }\n",
       "</style>\n",
       "<table border=\"1\" class=\"dataframe\">\n",
       "  <thead>\n",
       "    <tr style=\"text-align: right;\">\n",
       "      <th></th>\n",
       "      <th>URL</th>\n",
       "      <th>outlet</th>\n",
       "      <th>headline</th>\n",
       "      <th>body</th>\n",
       "      <th>crawltime</th>\n",
       "      <th>extracttime</th>\n",
       "      <th>summary</th>\n",
       "      <th>obtained_from</th>\n",
       "    </tr>\n",
       "  </thead>\n",
       "  <tbody>\n",
       "    <tr>\n",
       "      <th>0</th>\n",
       "      <td>https://www.gruenderszene.de/business/exit-sca...</td>\n",
       "      <td>www.gruenderszene.de</td>\n",
       "      <td>Hack, ICO-Betrug, PR-Stunt: Was ist bei Savedr...</td>\n",
       "      <td>Frankfurter Fintech\\n\\nHack, ICO-Betrug, PR-St...</td>\n",
       "      <td>2018-04-18 16:26:50.069000</td>\n",
       "      <td>2018-04-18 16:26:50.069000</td>\n",
       "      <td>NaN</td>\n",
       "      <td>/business/</td>\n",
       "    </tr>\n",
       "    <tr>\n",
       "      <th>1</th>\n",
       "      <td>https://www.gruenderszene.de/business/linearit...</td>\n",
       "      <td>www.gruenderszene.de</td>\n",
       "      <td>Dieser 18-Jährige entwickelt seine Grafik-App,...</td>\n",
       "      <td>Linearity\\n\\nDieser 18-Jährige entwickelt sein...</td>\n",
       "      <td>2018-04-19 08:33:12.533000</td>\n",
       "      <td>2018-04-19 08:33:12.533000</td>\n",
       "      <td>NaN</td>\n",
       "      <td>/business/</td>\n",
       "    </tr>\n",
       "    <tr>\n",
       "      <th>2</th>\n",
       "      <td>https://www.gruenderszene.de/business/pilot-wa...</td>\n",
       "      <td>www.gruenderszene.de</td>\n",
       "      <td>Was kann der crowdfinanzierte Übersetzungskopf...</td>\n",
       "      <td>Produkttest\\n\\nWas kann der crowdfinanzierte Ü...</td>\n",
       "      <td>2018-05-14 07:06:20.726000</td>\n",
       "      <td>2018-05-14 07:06:20.726000</td>\n",
       "      <td>NaN</td>\n",
       "      <td>/business/</td>\n",
       "    </tr>\n",
       "    <tr>\n",
       "      <th>3</th>\n",
       "      <td>https://www.gruenderszene.de/business/fluffy-f...</td>\n",
       "      <td>www.gruenderszene.de</td>\n",
       "      <td>100.000 Euro verdient dieses Startup pro Tag –...</td>\n",
       "      <td>Fluffy Fairy Games\\n\\n100.000 Euro verdient di...</td>\n",
       "      <td>2018-07-13 07:31:00.864000</td>\n",
       "      <td>2018-07-13 07:31:00.864000</td>\n",
       "      <td>NaN</td>\n",
       "      <td>/business/</td>\n",
       "    </tr>\n",
       "    <tr>\n",
       "      <th>4</th>\n",
       "      <td>https://www.gruenderszene.de/business/airbnb-l...</td>\n",
       "      <td>www.gruenderszene.de</td>\n",
       "      <td>Professionelle Vollzeitvermieter treiben das W...</td>\n",
       "      <td>Die Vermietungsplattform Airbnb sieht sich ger...</td>\n",
       "      <td>2018-08-25 09:21:00.780000</td>\n",
       "      <td>2018-08-25 09:21:00.780000</td>\n",
       "      <td>NaN</td>\n",
       "      <td>/business/</td>\n",
       "    </tr>\n",
       "  </tbody>\n",
       "</table>\n",
       "</div>"
      ],
      "text/plain": [
       "                                                 URL                outlet  \\\n",
       "0  https://www.gruenderszene.de/business/exit-sca...  www.gruenderszene.de   \n",
       "1  https://www.gruenderszene.de/business/linearit...  www.gruenderszene.de   \n",
       "2  https://www.gruenderszene.de/business/pilot-wa...  www.gruenderszene.de   \n",
       "3  https://www.gruenderszene.de/business/fluffy-f...  www.gruenderszene.de   \n",
       "4  https://www.gruenderszene.de/business/airbnb-l...  www.gruenderszene.de   \n",
       "\n",
       "                                            headline  \\\n",
       "0  Hack, ICO-Betrug, PR-Stunt: Was ist bei Savedr...   \n",
       "1  Dieser 18-Jährige entwickelt seine Grafik-App,...   \n",
       "2  Was kann der crowdfinanzierte Übersetzungskopf...   \n",
       "3  100.000 Euro verdient dieses Startup pro Tag –...   \n",
       "4  Professionelle Vollzeitvermieter treiben das W...   \n",
       "\n",
       "                                                body  \\\n",
       "0  Frankfurter Fintech\\n\\nHack, ICO-Betrug, PR-St...   \n",
       "1  Linearity\\n\\nDieser 18-Jährige entwickelt sein...   \n",
       "2  Produkttest\\n\\nWas kann der crowdfinanzierte Ü...   \n",
       "3  Fluffy Fairy Games\\n\\n100.000 Euro verdient di...   \n",
       "4  Die Vermietungsplattform Airbnb sieht sich ger...   \n",
       "\n",
       "                    crawltime                 extracttime summary  \\\n",
       "0  2018-04-18 16:26:50.069000  2018-04-18 16:26:50.069000     NaN   \n",
       "1  2018-04-19 08:33:12.533000  2018-04-19 08:33:12.533000     NaN   \n",
       "2  2018-05-14 07:06:20.726000  2018-05-14 07:06:20.726000     NaN   \n",
       "3  2018-07-13 07:31:00.864000  2018-07-13 07:31:00.864000     NaN   \n",
       "4  2018-08-25 09:21:00.780000  2018-08-25 09:21:00.780000     NaN   \n",
       "\n",
       "  obtained_from  \n",
       "0    /business/  \n",
       "1    /business/  \n",
       "2    /business/  \n",
       "3    /business/  \n",
       "4    /business/  "
      ]
     },
     "execution_count": 14,
     "metadata": {},
     "output_type": "execute_result"
    }
   ],
   "source": [
    "df.head()"
   ]
  },
  {
   "cell_type": "code",
   "execution_count": 15,
   "metadata": {},
   "outputs": [],
   "source": [
    "def write_txt(domain: str, df_index: str, content: str, category: str):\n",
    "    \"\"\"Write an article into a new txt file. The title of the txt file has the format \"DOMAIN___index____category.txt\" to ensure that each txt file has a unique title.\n",
    "\n",
    "    Parameters\n",
    "    ----------\n",
    "    domain : str\n",
    "        The domain the article was obtained from.\n",
    "    df_index : str\n",
    "        The row from the dataframe that the article was obtained from\n",
    "    content : str\n",
    "        The article text \n",
    "    category : str\n",
    "        The category of the article. Equals to the \"obtained_from\" column from the DataFrame\n",
    "    \"\"\"    \n",
    "\n",
    "    #title of the txt file\n",
    "    name = domain.upper() + \"___\" + df_index + \"___\" + category + \".txt\"\n",
    "    txt_path = split_files_path + name\n",
    "    \n",
    "    with open(txt_path, 'w') as file:\n",
    "        file.write(content)\n",
    " \n",
    "def get_domain(url: str):\n",
    "    \"\"\"get domain from url e.g. from www.gruenderszene.de returns gruenderszene.de\n",
    "\n",
    "        Parameters\n",
    "        ----------\n",
    "        url : str\n",
    "            Equals to the \"outlet\" column in the DataFrame\n",
    "\n",
    "        Returns\n",
    "        -------\n",
    "        str\n",
    "            [description]\n",
    "    \"\"\"        \n",
    "    \n",
    "    return url.replace(\"www.\", \"\")"
   ]
  },
  {
   "cell_type": "code",
   "execution_count": 17,
   "metadata": {},
   "outputs": [
    {
     "data": {
      "application/vnd.jupyter.widget-view+json": {
       "model_id": "d36a4d63ba25417aa77ce749a92052b4",
       "version_major": 2,
       "version_minor": 0
      },
      "text/plain": [
       "  0%|          | 0/287527 [00:00<?, ?it/s]"
      ]
     },
     "metadata": {},
     "output_type": "display_data"
    }
   ],
   "source": [
    "# Write for all articles a separate txt file, including a progressbar\n",
    "N = df.shape[0]\n",
    "\n",
    "with tqdm(total=N) as pbar:\n",
    "    for i in range(N):\n",
    "\n",
    "        url = df['outlet'].iloc[i]\n",
    "        body = df['body'].iloc[i]\n",
    "        category = df['obtained_from'].iloc[i]\n",
    "        category = category.replace(\"/\", \"\")\n",
    "\n",
    "        write_txt(get_domain(url), str(i), body, category)\n",
    "\n",
    "        pbar.update(1)\n",
    "    pbar.close()"
   ]
  },
  {
   "cell_type": "code",
   "execution_count": 19,
   "metadata": {},
   "outputs": [
    {
     "name": "stdout",
     "output_type": "stream",
     "text": [
      "From 287527 articles, 287527 articles were written in txt\n",
      "Number Not written files: 0\n"
     ]
    }
   ],
   "source": [
    "#check that all articles of the DataFrame were written to an indivual txt file\n",
    "_, _, files = next(os.walk(split_files_path))\n",
    "file_count = len(files)\n",
    "file_count\n",
    "print(f\"From {df.shape[0]} articles, {file_count} articles were written in txt\")\n",
    "\n",
    "print(f\"Number Not written files: {df.shape[0]-file_count}\")\n"
   ]
  }
 ],
 "metadata": {
  "interpreter": {
   "hash": "949777d72b0d2535278d3dc13498b2535136f6dfe0678499012e853ee9abcab1"
  },
  "kernelspec": {
   "display_name": "Python 3.9.0 64-bit",
   "language": "python",
   "name": "python3"
  },
  "language_info": {
   "codemirror_mode": {
    "name": "ipython",
    "version": 3
   },
   "file_extension": ".py",
   "mimetype": "text/x-python",
   "name": "python",
   "nbconvert_exporter": "python",
   "pygments_lexer": "ipython3",
   "version": "3.9.0"
  },
  "orig_nbformat": 4
 },
 "nbformat": 4,
 "nbformat_minor": 2
}
